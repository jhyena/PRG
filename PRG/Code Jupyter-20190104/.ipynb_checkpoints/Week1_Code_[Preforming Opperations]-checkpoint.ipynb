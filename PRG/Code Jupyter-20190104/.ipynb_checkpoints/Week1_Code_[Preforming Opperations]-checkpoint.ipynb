{
 "cells": [
  {
   "cell_type": "markdown",
   "metadata": {},
   "source": [
    "## Preforming Opperations"
   ]
  },
  {
   "cell_type": "code",
   "execution_count": 1,
   "metadata": {},
   "outputs": [
    {
     "name": "stdout",
     "output_type": "stream",
     "text": [
      "1 pluss 1 equals 2\n",
      "2 minus 1 equals 1\n",
      "10 devided by 2 equals 5.0\n",
      "5 times 2 equals 10\n"
     ]
    }
   ],
   "source": [
    "\"\"\"\n",
    "We Can do arithmetic Operations in python!\n",
    "    +---+------------+\n",
    "    | + | Adds       |\n",
    "    +---+------------+\n",
    "    | - | Subtracts  |\n",
    "    +---+------------+\n",
    "    | * | Multiply   |\n",
    "    +---+------------+\n",
    "    | / | Devides    |\n",
    "    +---+------------+\n",
    "\"\"\"\n",
    "\n",
    "pluss = \"{} pluss {} equals {}\" # The string we want to use for summing number\n",
    "devide = \"{} devided by {} equals {}\" # The string we want to use if we are deviding\n",
    "multiply = \"{} times {} equals {}\" # The string we want to use when do multiplication\n",
    "minus = \"{} minus {} equals {}\" # The string we want to use if we subtract\n",
    "\n",
    "\n",
    "\"\"\"First we do 1+1\"\"\"\n",
    "print(pluss.format(1,1, 1+1)) #format allows us to replace {} with a value\n",
    "\n",
    "\"\"\"Then we do 2-1\"\"\"\n",
    "print(minus.format(2,1, 2-1)) #format allows us to replace {} with a value\n",
    "\n",
    "\"\"\"After we do 10/2\"\"\"\n",
    "print(devide.format(10,2, 10/2))#format allows us to replace {} with a value\n",
    "\n",
    "\"\"\"Lastly 5*2\"\"\"\n",
    "print(multiply.format(5,2, 5*2))#format allows us to replace {} with a value\n"
   ]
  },
  {
   "cell_type": "markdown",
   "metadata": {},
   "source": [
    "### Formula for the circumference of a ball:\n",
    "$c = 2\\pi*r$"
   ]
  },
  {
   "cell_type": "code",
   "execution_count": 2,
   "metadata": {},
   "outputs": [
    {
     "name": "stdout",
     "output_type": "stream",
     "text": [
      "Circumference is 37.68 when the diameter is 12\n"
     ]
    }
   ],
   "source": [
    "\"\"\"\n",
    "Let's Calculate the circumference of a circle; the diameter is 12 cm!\n",
    "\n",
    ".. warning:: The diameter needs to be divided by 2 to get the radian.\n",
    "\"\"\"\n",
    "d = 12 # The diameter\n",
    "r = d/2 # The radian\n",
    "\n",
    "pi = 3.14 # PI\n",
    "\n",
    "c = (2*pi)*r #The formula as python code\n",
    "\n",
    "print(\"Circumference is {} when the diameter is {}\".format(c,d))"
   ]
  },
  {
   "cell_type": "code",
   "execution_count": 31,
   "metadata": {},
   "outputs": [
    {
     "name": "stdout",
     "output_type": "stream",
     "text": [
      "3\n",
      "----------------------------------------------------------------------------------------------------\n",
      "Its 1\n",
      "Its 2\n",
      "Its 3\n",
      "Its 4\n",
      "Its 5\n",
      "Its 6\n",
      "Its 7\n",
      "Its time to wake up!\n",
      "Its 8\n",
      "Its 9\n",
      "Its 10\n",
      "Its 11\n",
      "Its 0\n",
      "Its 1\n",
      "Its 2\n",
      "Its 3\n",
      "Its 4\n",
      "Its Dinner time!\n",
      "Its 5\n",
      "Its 6\n",
      "Its 7\n",
      "Its 8\n",
      "Its 9\n",
      "Its 10\n",
      "Its 11\n",
      "Its time to go to Bed!\n",
      "Its 0\n"
     ]
    }
   ],
   "source": [
    "\"\"\"\n",
    "Modulo is the remainder after we divide.\n",
    "It can be visualized as a clock based rotation.\n",
    "There are 12 hours in a clock rotation.\n",
    "15 % 12, therefore, becomes 3.\n",
    "15/12 becomes 1 with three as a reminder.\n",
    "\"\"\"\n",
    "\n",
    "print(15 % 12) # is 3\n",
    "\n",
    "print(\"-\"*100)#------------------------------\n",
    "\n",
    "\"\"\"\n",
    "We can use this to make rotational programming.\n",
    "This simple reminder App uses %12 to simulate an analogue clock.\n",
    "\"\"\"\n",
    "\n",
    "r = 1\n",
    "\n",
    "for i in range(24):\n",
    "    i = i+1\n",
    "    \n",
    "    print(\"Its {}\".format(i % 12))\n",
    "    if i % 12 == 7:\n",
    "        if r == 1:\n",
    "            print(\"Its time to wake up!\")\n",
    "            \n",
    "    if i % 12 == 4:\n",
    "        if r == 2:\n",
    "            print(\"Its Dinner time!\")\n",
    "            \n",
    "    if i % 12 == 11:\n",
    "        if r == 2:\n",
    "            print(\"Its time to go to Bed!\")\n",
    "    \n",
    "    if i % 12 == 0:\n",
    "        if r == 1:\n",
    "            r += 1\n",
    "        else:\n",
    "            r=1\n"
   ]
  },
  {
   "cell_type": "code",
   "execution_count": 33,
   "metadata": {},
   "outputs": [
    {
     "name": "stdout",
     "output_type": "stream",
     "text": [
      "Ten is 5\n",
      "After assignment 10\n"
     ]
    }
   ],
   "source": [
    "\"\"\"\n",
    "We can use operators to assign values to variables.\n",
    "    +-----+------------------+\n",
    "    | +=  | Adds and assigns |\n",
    "    +-----+------------------+\n",
    "    | -=  | Subs and assigns |\n",
    "    +-----+------------------+\n",
    "    | *=  | Mult and assign  |\n",
    "    +-----+------------------+\n",
    "    | /=  | Dev and assign   |\n",
    "    +-----+------------------+\n",
    "\"\"\"\n",
    "ten = 5\n",
    "print(\"Ten is {}\".format(ten))\n",
    "\n",
    "ten *= 2 # Takes the value form 10 multiply it by to and put the result in ten\n",
    "print(\"After assignment {}\".format(ten))\n"
   ]
  },
  {
   "cell_type": "code",
   "execution_count": 2,
   "metadata": {},
   "outputs": [
    {
     "name": "stdout",
     "output_type": "stream",
     "text": [
      "Returns True or False\n",
      "False\n",
      "True\n",
      "True\n"
     ]
    }
   ],
   "source": [
    "\"\"\"\n",
    "We can also Compare values.\n",
    "    +--------+---------------------------+\n",
    "    |  ==    | The non assignment equals |\n",
    "    +--------+---------------------------+\n",
    "    |  !=    | Not equal.                |\n",
    "    +--------+---------------------------+\n",
    "    | x > y  | x Greater than y          |\n",
    "    +--------+---------------------------+\n",
    "    | x < y  | x Less than y             |\n",
    "    +--------+---------------------------+\n",
    "    | x <= y | x Less than or equal y    |\n",
    "    +--------+---------------------------+\n",
    "    | x >= y | x Greater than or equal y |\n",
    "    +--------+---------------------------+\n",
    "    \n",
    "\"\"\"\n",
    "x,y = 1,2\n",
    "\n",
    "print(\"Returns True or False\")\n",
    "\n",
    "print(x == y)\n",
    "print(x < y)\n",
    "print(x != y)\n"
   ]
  },
  {
   "cell_type": "code",
   "execution_count": 3,
   "metadata": {},
   "outputs": [
    {
     "name": "stdout",
     "output_type": "stream",
     "text": [
      "Returns True or False\n",
      "False\n",
      "True\n",
      "True\n",
      "--------------------\n",
      "False\n",
      "True\n",
      "True\n",
      "False\n",
      "True\n",
      "True\n"
     ]
    }
   ],
   "source": [
    "\"\"\"\n",
    "Logic Operators.\n",
    "    +---------+---------+\n",
    "    |   AND   | x AND Y |\n",
    "    +---------+---------+\n",
    "    |   OR    | x OR y  |\n",
    "    +---------+---------+\n",
    "    |   NOT   | x NOY t |\n",
    "    +---------+---------+\n",
    "\"\"\"\n",
    "x,y = 1,5\n",
    "\n",
    "print(\"Returns True or False\")\n",
    "\n",
    "print(x == 5 and y == 5)\n",
    "print(x == 5 or y == 5)\n",
    "print(x is not y)\n",
    "\n",
    "print(\"-\"*20)\n",
    "\n",
    "a,b,c = True,True,True\n",
    "\n",
    "print(not a)\n",
    "print(a or b)\n",
    "print(a and b)\n",
    "print(not a and not b)\n",
    "print(not not a and not not b)\n",
    "print(not not a and not not b or not not c)\n"
   ]
  },
  {
   "cell_type": "code",
   "execution_count": 4,
   "metadata": {},
   "outputs": [
    {
     "name": "stdout",
     "output_type": "stream",
     "text": [
      "Lol\n"
     ]
    }
   ],
   "source": [
    "\"\"\"\n",
    "If statement\n",
    "    Anything returning a bool kan is used with a condition\n",
    "    We will look at it in depth later on.\n",
    "\"\"\"\n",
    "\n",
    "if(not not a and not not b):\n",
    "    print(\"Lol\")\n"
   ]
  },
  {
   "cell_type": "code",
   "execution_count": 5,
   "metadata": {},
   "outputs": [
    {
     "data": {
      "text/plain": [
       "True"
      ]
     },
     "execution_count": 5,
     "metadata": {},
     "output_type": "execute_result"
    }
   ],
   "source": [
    "a = 5\n",
    "True if a == 5 else False "
   ]
  },
  {
   "cell_type": "code",
   "execution_count": null,
   "metadata": {},
   "outputs": [],
   "source": []
  }
 ],
 "metadata": {
  "kernelspec": {
   "display_name": "Python 3",
   "language": "python",
   "name": "python3"
  },
  "language_info": {
   "codemirror_mode": {
    "name": "ipython",
    "version": 3
   },
   "file_extension": ".py",
   "mimetype": "text/x-python",
   "name": "python",
   "nbconvert_exporter": "python",
   "pygments_lexer": "ipython3",
   "version": "3.7.2"
  }
 },
 "nbformat": 4,
 "nbformat_minor": 2
}
