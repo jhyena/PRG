{
 "cells": [
  {
   "cell_type": "markdown",
   "metadata": {},
   "source": [
    "<style>\n",
    " .rendered_html img {margin-left: 0 !important;float:left} \n",
    " .rendered_html table {margin-left: 0 !important;}  \n",
    "</style>\n",
    "\n",
    "<img src=\"https://www.noroff.no/images/logo/noroff-logo216x65.png\"/>\n",
    "\n",
    "## Writing Your First Program"
   ]
  },
  {
   "cell_type": "markdown",
   "metadata": {},
   "source": [
    "To run python in the termianl use:\n",
    "```bash\n",
    "$> python3\n",
    "```"
   ]
  },
  {
   "cell_type": "code",
   "execution_count": 3,
   "metadata": {},
   "outputs": [
    {
     "name": "stdout",
     "output_type": "stream",
     "text": [
      "Hello World\n"
     ]
    }
   ],
   "source": [
    "\"\"\"\n",
    "**Name:** Writing your first program\n",
    "**Author:** Alexander Bjørnsrud\n",
    "**Created:** 2018-09-21\n",
    "**ID:** xxxxxxxx\n",
    "\n",
    "The purpose of this Notebook is to show the students what they can do with their first program.\n",
    "\"\"\"\n",
    "\n",
    "\"\"\"The print statement writes output from the program.\"\"\"\n",
    "\n",
    "print(\"Hello World\")"
   ]
  },
  {
   "cell_type": "markdown",
   "metadata": {},
   "source": []
  },
  {
   "cell_type": "code",
   "execution_count": 1,
   "metadata": {},
   "outputs": [
    {
     "name": "stdout",
     "output_type": "stream",
     "text": [
      "Hello \"You\"...\n",
      "Testing Python!\n",
      "Editing the notebook!\n"
     ]
    }
   ],
   "source": [
    "\"\"\"If you use quotes in the text they have to be escaped with the \\ character\"\"\"\n",
    "\n",
    "text = \"Editing\"\n",
    "\n",
    "print(\"Hello \\\"You\\\"...\")\n",
    "print(\"Testing Python!\")\n",
    "print(text+\" the notebook!\")"
   ]
  },
  {
   "cell_type": "code",
   "execution_count": 8,
   "metadata": {},
   "outputs": [
    {
     "name": "stdout",
     "output_type": "stream",
     "text": [
      "Line 1\n",
      "Line 2\n",
      "Line1\r",
      "Line2\n",
      "Start\tTabbed Text\n"
     ]
    }
   ],
   "source": [
    "\"\"\"We can use special characters to show a line break or a tab\"\"\"\n",
    "\n",
    "\"\"\"The \\n key will move the text to a new line\"\"\"\n",
    "print(\"Line 1\\nLine 2\")\n",
    "\n",
    "\"\"\"\\r Is the return character. Note how Line1 is not printed. The return character removes anything before the character.\"\"\"\n",
    "print(\"Line1\\rLine2\")\n",
    "\n",
    "\"\"\"\\t Is the tab character\"\"\"\n",
    "print(\"Start\\tTabbed Text\")\n"
   ]
  },
  {
   "cell_type": "code",
   "execution_count": 11,
   "metadata": {},
   "outputs": [
    {
     "name": "stdout",
     "output_type": "stream",
     "text": [
      "String 1 | String 2\n"
     ]
    }
   ],
   "source": [
    "\"\"\"We can use the + sign to add strings together\"\"\"\n",
    "\n",
    "print(\"String 1\"+\" | \"+\"String 2\")"
   ]
  },
  {
   "cell_type": "code",
   "execution_count": 14,
   "metadata": {},
   "outputs": [
    {
     "name": "stdout",
     "output_type": "stream",
     "text": [
      "A Bread costs: 25\n",
      "If i buy bread and cheese they cost: 75\n"
     ]
    }
   ],
   "source": [
    "\"\"\"\n",
    "A Variable is used to hold a value.\n",
    "Review the following prices:\n",
    "\"\"\"\n",
    "\n",
    "bread = 25\n",
    "butter = 30\n",
    "bacon = 25\n",
    "cheese = 50\n",
    "\n",
    "print(\"A Bread costs:\", bread)\n",
    "print(\"If i buy bread and cheese they cost:\", cheese+bread)"
   ]
  },
  {
   "cell_type": "code",
   "execution_count": 1,
   "metadata": {},
   "outputs": [
    {
     "name": "stdout",
     "output_type": "stream",
     "text": [
      "A Bread costs: 25\n",
      "If i buy bread and cheese they cost: 75\n"
     ]
    }
   ],
   "source": [
    "\"\"\"\n",
    "We can also assign variables on a single line.\n",
    "\"\"\"\n",
    "bread,butter,bacon,cheese = 25,30,25,50\n",
    "\n",
    "print(\"A Bread costs:\", bread)\n",
    "print(\"If i buy bread and cheese they cost:\", cheese+bread)"
   ]
  },
  {
   "cell_type": "code",
   "execution_count": 17,
   "metadata": {},
   "outputs": [
    {
     "name": "stdout",
     "output_type": "stream",
     "text": [
      "False\n"
     ]
    }
   ],
   "source": [
    "\"\"\"\n",
    "Variables are similar to how x and y work in mathematics.\n",
    "\"\"\"\n",
    "x=0\n",
    "y=0\n",
    "b=0\n",
    "\n",
    "print(x+y-b==5) #0 is not equal to 5."
   ]
  },
  {
   "cell_type": "code",
   "execution_count": 18,
   "metadata": {},
   "outputs": [
    {
     "name": "stdout",
     "output_type": "stream",
     "text": [
      "True\n"
     ]
    }
   ],
   "source": [
    "x=7\n",
    "y=1\n",
    "b=3\n",
    "\n",
    "print(x+y-b==5)# 5 is equal to 5."
   ]
  },
  {
   "cell_type": "code",
   "execution_count": 20,
   "metadata": {},
   "outputs": [
    {
     "name": "stdout",
     "output_type": "stream",
     "text": [
      "Hello Alexander!\n"
     ]
    }
   ],
   "source": [
    "\"\"\"\n",
    "Variables can also hold strings.\n",
    "They operate in the same manner as strings.\n",
    "This means that we can combine them like earlier.\n",
    "\"\"\"\n",
    "name = \"Alexander\"\n",
    "message = \"Hello \"+name+\"!\"\n",
    "\n",
    "print(message)"
   ]
  },
  {
   "cell_type": "code",
   "execution_count": 43,
   "metadata": {},
   "outputs": [
    {
     "name": "stdout",
     "output_type": "stream",
     "text": [
      "1 2 3\n",
      "-----\n",
      "5 5 5\n"
     ]
    }
   ],
   "source": [
    "\"\"\"Multi initalizing of variables\"\"\"\n",
    "\n",
    "one,two,tree = 1,2,3 #assigns 1,2 and 3 to the variables before the = sign\n",
    "print(one,two,tree)\n",
    "\n",
    "print(\"-\"*5)#-----------------------------------------\n",
    "\n",
    "five=one_pluss_four=two_point_five_times_two = 5# We can assing all of the variables to five at the same time\n",
    "print(five,one_pluss_four,two_point_five_times_two)\n"
   ]
  },
  {
   "cell_type": "code",
   "execution_count": 44,
   "metadata": {},
   "outputs": [
    {
     "name": "stdout",
     "output_type": "stream",
     "text": [
      "False None True\n",
      "and as assert\n",
      "async await break\n",
      "class continue def\n",
      "del elif else\n",
      "except finally for\n",
      "from global if\n",
      "import in is\n",
      "lambda nonlocal not\n",
      "or pass raise\n",
      "return try while\n",
      "--------------------\n",
      "True\n"
     ]
    }
   ],
   "source": [
    "\"\"\"Some names we can't use!\"\"\"\n",
    "import keyword\n",
    "\n",
    "#Dont Panic!\n",
    "[print(i,n,z)for i,n,z in zip(keyword.kwlist[::3],keyword.kwlist[1::3],keyword.kwlist[2::3])] #Dont memorize this..\n",
    "#its just there to show the words.\n",
    "\n",
    "print(\"-\"*20)#-----------------------------------------\n",
    "\n",
    "while_True = True #will work dough\n",
    "print(while_True)\n",
    " "
   ]
  },
  {
   "cell_type": "code",
   "execution_count": 2,
   "metadata": {},
   "outputs": [
    {
     "name": "stdout",
     "output_type": "stream",
     "text": [
      "Tell me your name!:Alexander\n",
      "Hello Alexander!\n"
     ]
    }
   ],
   "source": [
    "\"\"\"\n",
    "We can use the input function to get input from the users\n",
    "\"\"\"\n",
    "\n",
    "inp = input(\"Tell me your name!:\")\n",
    "print(\"Hello \"+inp+\"!\")\n"
   ]
  },
  {
   "cell_type": "code",
   "execution_count": 3,
   "metadata": {},
   "outputs": [
    {
     "ename": "Exception",
     "evalue": "Epic Error!",
     "output_type": "error",
     "traceback": [
      "\u001b[0;31m---------------------------------------------------------------------------\u001b[0m",
      "\u001b[0;31mException\u001b[0m                                 Traceback (most recent call last)",
      "\u001b[0;32m<ipython-input-3-bb33b18183bd>\u001b[0m in \u001b[0;36m<module>\u001b[0;34m()\u001b[0m\n\u001b[1;32m      3\u001b[0m \"\"\"\n\u001b[1;32m      4\u001b[0m \u001b[0;34m\u001b[0m\u001b[0m\n\u001b[0;32m----> 5\u001b[0;31m \u001b[0;32mraise\u001b[0m \u001b[0mException\u001b[0m\u001b[0;34m(\u001b[0m\u001b[0;34m\"Epic Error!\"\u001b[0m\u001b[0;34m)\u001b[0m\u001b[0;34m\u001b[0m\u001b[0m\n\u001b[0m",
      "\u001b[0;31mException\u001b[0m: Epic Error!"
     ]
    }
   ],
   "source": [
    "\"\"\"\n",
    "Errors!\n",
    "=======\n",
    ".. note:: We can use Exceptions to raise errors in out code.\n",
    ".. warning:: Raising an error will halt the execution.\n",
    "\"\"\"\n",
    "\n",
    "raise Exception(\"Epic Error!\")"
   ]
  },
  {
   "cell_type": "code",
   "execution_count": 1,
   "metadata": {},
   "outputs": [
    {
     "ename": "SyntaxError",
     "evalue": "EOL while scanning string literal (<ipython-input-1-8a6c106e30ba>, line 5)",
     "output_type": "error",
     "traceback": [
      "\u001b[0;36m  File \u001b[0;32m\"<ipython-input-1-8a6c106e30ba>\"\u001b[0;36m, line \u001b[0;32m5\u001b[0m\n\u001b[0;31m    print(\"Hello!)\u001b[0m\n\u001b[0m                  ^\u001b[0m\n\u001b[0;31mSyntaxError\u001b[0m\u001b[0;31m:\u001b[0m EOL while scanning string literal\n"
     ]
    }
   ],
   "source": [
    "\"\"\"\n",
    "Python will raise errors if we do something unexpected.\n",
    "\"\"\"\n",
    "\n",
    "print(\"Hello!)"
   ]
  },
  {
   "cell_type": "code",
   "execution_count": 5,
   "metadata": {},
   "outputs": [
    {
     "ename": "TypeError",
     "evalue": "can only concatenate str (not \"int\") to str",
     "output_type": "error",
     "traceback": [
      "\u001b[0;31m---------------------------------------------------------------------------\u001b[0m",
      "\u001b[0;31mTypeError\u001b[0m                                 Traceback (most recent call last)",
      "\u001b[0;32m<ipython-input-5-fe78f2a44679>\u001b[0m in \u001b[0;36m<module>\u001b[0;34m()\u001b[0m\n\u001b[0;32m----> 1\u001b[0;31m \u001b[0mprint\u001b[0m\u001b[0;34m(\u001b[0m\u001b[0;34m\"1\"\u001b[0m\u001b[0;34m+\u001b[0m\u001b[0;36m1\u001b[0m\u001b[0;34m)\u001b[0m\u001b[0;34m\u001b[0m\u001b[0m\n\u001b[0m",
      "\u001b[0;31mTypeError\u001b[0m: can only concatenate str (not \"int\") to str"
     ]
    }
   ],
   "source": [
    "\"\"\"\n",
    "Python will raise errors if we do something unexpected.\n",
    "\"\"\"\n",
    "print(\"1\"+1)"
   ]
  }
 ],
 "metadata": {
  "kernelspec": {
   "display_name": "Python 3",
   "language": "python",
   "name": "python3"
  },
  "language_info": {
   "codemirror_mode": {
    "name": "ipython",
    "version": 3
   },
   "file_extension": ".py",
   "mimetype": "text/x-python",
   "name": "python",
   "nbconvert_exporter": "python",
   "pygments_lexer": "ipython3",
   "version": "3.7.2"
  }
 },
 "nbformat": 4,
 "nbformat_minor": 2
}
